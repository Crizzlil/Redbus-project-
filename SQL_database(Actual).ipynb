{
 "cells": [
  {
   "cell_type": "code",
   "execution_count": 2,
   "metadata": {},
   "outputs": [],
   "source": [
    "import pandas as pd\n",
    "import mysql.connector\n",
    "import numpy as np\n",
    "import os"
   ]
  },
  {
   "cell_type": "code",
   "execution_count": 4,
   "metadata": {},
   "outputs": [],
   "source": [
    "df_Ap_bus = pd.read_csv('df_Ap_bus.csv')\n",
    "df_As_bus = pd.read_csv('df_As_bus.csv')\n",
    "df_H_bus = pd.read_csv('df_H_bus.csv')\n",
    "df_K_bus = pd.read_csv('df_K_bus.csv')\n",
    "df_Ka_bus = pd.read_csv('df_Ka_bus.csv')\n",
    "df_R_bus = pd.read_csv('df_R_bus.csv')\n",
    "df_S_bus = pd.read_csv('df_S_bus.csv')\n",
    "df_T_bus = pd.read_csv('df_T_bus.csv')\n",
    "df_U_bus = pd.read_csv('df_U_bus.csv')\n",
    "df_Wb_bus = pd.read_csv('df_Wb_bus.csv')\n",
    "df = pd.concat([df_Ap_bus,df_As_bus,df_H_bus,df_K_bus,df_Ka_bus,df_R_bus,df_S_bus,df_T_bus,df_U_bus,df_Wb_bus])\n",
    "df\n",
    "Cleaned_df = df.copy()\n",
    "\n",
    "\n",
    "\n"
   ]
  },
  {
   "cell_type": "code",
   "execution_count": 5,
   "metadata": {},
   "outputs": [
    {
     "data": {
      "text/plain": [
       "0     4.2\n",
       "1     3.8\n",
       "2     3.1\n",
       "3     3.8\n",
       "4     3.5\n",
       "     ... \n",
       "80    4.6\n",
       "81    4.5\n",
       "82    4.4\n",
       "83    4.4\n",
       "84    4.1\n",
       "Name: Ratings, Length: 2294, dtype: float64"
      ]
     },
     "execution_count": 5,
     "metadata": {},
     "output_type": "execute_result"
    }
   ],
   "source": [
    "Cleaned_df['Ratings'] = pd.to_numeric(df['Ratings'], errors='coerce')\n",
    "\n",
    "# Optionally, replace NaN with a specific value (e.g., 0) or drop them\n",
    "Cleaned_df['Ratings'].fillna(Cleaned_df['Ratings'].min(), inplace=True)\n",
    "Cleaned_df['Ratings'].astype(float)"
   ]
  },
  {
   "cell_type": "code",
   "execution_count": 6,
   "metadata": {},
   "outputs": [],
   "source": [
    "# Drop NaN values from all columns except 'Route_Links'\n",
    "Cleaned_df.dropna(subset=[col for col in Cleaned_df.columns if col != 'Seats_Available'], inplace=True)\n",
    "\n",
    "Cleaned_df['Seats_Available']= Cleaned_df['Seats_Available'].fillna('Not Available')"
   ]
  },
  {
   "cell_type": "code",
   "execution_count": 7,
   "metadata": {},
   "outputs": [],
   "source": [
    "Cleaned_df['Price']= Cleaned_df['Price'].str.replace('INR', '').str.strip()\n",
    "Cleaned_df['Price']= Cleaned_df['Price'].astype(float,2)"
   ]
  },
  {
   "cell_type": "code",
   "execution_count": 8,
   "metadata": {},
   "outputs": [
    {
     "name": "stdout",
     "output_type": "stream",
     "text": [
      "Database created successfully or already exists!\n"
     ]
    }
   ],
   "source": [
    "# Establish the MySQL connection (do not specify the database here)\n",
    "conn = mysql.connector.connect(\n",
    "    host=\"127.0.0.1\",\n",
    "    user=\"root\",\n",
    "    password=\"Tango@0044.\",\n",
    "    database=\"REDBUS\"\n",
    ")\n",
    "\n",
    "# Create a cursor object\n",
    "My_cursor = conn.cursor()\n",
    "\n",
    "# Define the query to create the database\n",
    "create_database_query = \"CREATE DATABASE IF NOT EXISTS REDBUS\"\n",
    "\n",
    "# Execute the query\n",
    "try:\n",
    "    My_cursor.execute(create_database_query)\n",
    "    print(\"Database created successfully or already exists!\")\n",
    "except mysql.connector.Error as err:\n",
    "    print(f\"Error: {err}\")\n",
    "\n",
    "    "
   ]
  },
  {
   "cell_type": "code",
   "execution_count": 10,
   "metadata": {},
   "outputs": [
    {
     "name": "stdout",
     "output_type": "stream",
     "text": [
      "Done!!\n"
     ]
    }
   ],
   "source": [
    "# Create the table if it does not exist\n",
    "My_cursor.execute('''CREATE TABLE IF NOT EXISTS BUS_DETAILS(\n",
    "                    ID INT AUTO_INCREMENT PRIMARY KEY,\n",
    "                    Bus_Name VARCHAR(255) NOT NULL,\n",
    "                    Bus_Type VARCHAR(255) NOT NULL,\n",
    "                    Departure_Time VARCHAR(255) NOT NULL,\n",
    "                    Arrival_Time VARCHAR(255) NOT NULL,\n",
    "                    Travel_Duration VARCHAR(255) NOT NULL,\n",
    "                    Ratings FLOAT NULL,\n",
    "                    Price FLOAT NULL,\n",
    "                    Seats_Available VARCHAR(255) NOT NULL,\n",
    "                    Route_Name VARCHAR(255) NOT NULL,\n",
    "                    Route_Links VARCHAR(255) NOT NULL\n",
    "                    )''')\n",
    "print('Done!!')"
   ]
  },
  {
   "cell_type": "code",
   "execution_count": 11,
   "metadata": {},
   "outputs": [
    {
     "name": "stdout",
     "output_type": "stream",
     "text": [
      "Done!!\n"
     ]
    }
   ],
   "source": [
    "#Query\n",
    "insert_query = '''INSERT INTO BUS_DETAILS(\n",
    "                Bus_Name,\n",
    "                Bus_Type,\n",
    "                Departure_Time,\n",
    "                Arrival_Time,\n",
    "                Travel_Duration,\n",
    "                Ratings,\n",
    "                Price,\n",
    "                Seats_Available,\n",
    "                Route_Name,\n",
    "                Route_Links)\n",
    "                VALUES(%s,%s,%s,%s,%s,%s,%s,%s,%s,%s)'''\n",
    "data = Cleaned_df.values.tolist()\n",
    "\n",
    "My_cursor.executemany(insert_query,data)\n",
    "conn.commit()\n",
    "print('Done!!')"
   ]
  }
 ],
 "metadata": {
  "kernelspec": {
   "display_name": "Python 3",
   "language": "python",
   "name": "python3"
  },
  "language_info": {
   "codemirror_mode": {
    "name": "ipython",
    "version": 3
   },
   "file_extension": ".py",
   "mimetype": "text/x-python",
   "name": "python",
   "nbconvert_exporter": "python",
   "pygments_lexer": "ipython3",
   "version": "3.11.7"
  }
 },
 "nbformat": 4,
 "nbformat_minor": 2
}
